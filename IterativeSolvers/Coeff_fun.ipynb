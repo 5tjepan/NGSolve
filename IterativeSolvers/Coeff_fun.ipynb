{
 "cells": [
  {
   "cell_type": "code",
   "execution_count": 8,
   "id": "0befee34-776c-4390-9171-3d85399b6b76",
   "metadata": {},
   "outputs": [],
   "source": [
    "from ngsolve import *\n",
    "from ngsolve.webgui import Draw\n",
    "import matplotlib.pyplot as plt\n",
    "mesh = Mesh (unit_square.GenerateMesh(maxh=0.15))"
   ]
  },
  {
   "cell_type": "code",
   "execution_count": 38,
   "id": "6a28ad4d-b7c9-4a3d-a096-dbf1342fb7cc",
   "metadata": {},
   "outputs": [
    {
     "data": {
      "text/plain": [
       "<ngsolve.fem.CoefficientFunction at 0x1ca67cedc70>"
      ]
     },
     "execution_count": 38,
     "metadata": {},
     "output_type": "execute_result"
    }
   ],
   "source": [
    "myfun=(x-1)*(1+x)-3\n",
    "myfun"
   ]
  },
  {
   "cell_type": "code",
   "execution_count": 44,
   "id": "e6bbd7fb-95a5-47f8-899b-c4afc1d5d143",
   "metadata": {},
   "outputs": [
    {
     "data": {
      "application/vnd.jupyter.widget-view+json": {
       "model_id": "f0a28d4bff174988b7eae714c7494c42",
       "version_major": 2,
       "version_minor": 0
      },
      "text/plain": [
       "WebGuiWidget(layout=Layout(height='50vh', width='100%'), value={'gui_settings': {}, 'ngsolve_version': '6.2.24…"
      ]
     },
     "metadata": {},
     "output_type": "display_data"
    },
    {
     "data": {
      "text/plain": [
       "BaseWebGuiScene"
      ]
     },
     "execution_count": 44,
     "metadata": {},
     "output_type": "execute_result"
    }
   ],
   "source": [
    "Draw(myfun, mesh)"
   ]
  },
  {
   "cell_type": "code",
   "execution_count": 45,
   "id": "1394c748-da56-4120-8a35-0a4bb845b55a",
   "metadata": {},
   "outputs": [
    {
     "data": {
      "text/plain": [
       "-3.99"
      ]
     },
     "execution_count": 45,
     "metadata": {},
     "output_type": "execute_result"
    }
   ],
   "source": [
    "ip=mesh(0.10,0.2)\n",
    "myfun(ip)"
   ]
  },
  {
   "cell_type": "code",
   "execution_count": null,
   "id": "16b0da7b-6041-4a07-8c8d-414571051133",
   "metadata": {},
   "outputs": [],
   "source": []
  }
 ],
 "metadata": {
  "kernelspec": {
   "display_name": "Python 3 (ipykernel)",
   "language": "python",
   "name": "python3"
  },
  "language_info": {
   "codemirror_mode": {
    "name": "ipython",
    "version": 3
   },
   "file_extension": ".py",
   "mimetype": "text/x-python",
   "name": "python",
   "nbconvert_exporter": "python",
   "pygments_lexer": "ipython3",
   "version": "3.12.2"
  }
 },
 "nbformat": 4,
 "nbformat_minor": 5
}
