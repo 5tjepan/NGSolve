{
 "cells": [
  {
   "cell_type": "markdown",
   "id": "3cb1aec0",
   "metadata": {},
   "source": [
    "# Introduction to MPI with mpi4py\n",
    "\n",
    "MPI (abbreviation for message passing interface) is the standard library for communication within a cluster of processors. The library is available for many languages, such as C or Python. In this tutorial we use MPI within jupyter notebooks"
   ]
  },
  {
   "cell_type": "markdown",
   "id": "c19e2e6f-4c17-4b49-8c25-caf242249177",
   "metadata": {},
   "source": [
    "## The installation happens in three steps:\n",
    "* install MPI including mpi4py\n",
    "* install PETSc including petsc4py (needed for advanced tutorials)\n",
    "* install MPI-parallel ngsolve (shipped as binaries starting from NGSolve 24.04)\n",
    "\n",
    "### Installing with conda\n",
    "\n",
    "The quickest path is using conda. Conda-forge provides binary packages for MPI and PETSc for many platforms and versions (TODO: list versions). Install anaconda (or mini-conda), and run something like\n",
    "\n",
    "    ~/miniconda3/bin/conda install mpi4py petsc4py\n",
    "    ~/miniconda3/bin/python3 -m pip install --pre --upgrade ngsolve\n",
    "\n",
    "\n",
    "### Installing conda-packages using pip\n",
    "\n",
    "* *Linux/MacOS* <br>\n",
    "\n",
    "      pip3 install -i https://pypi.anaconda.org/mpi4py/simple mpi4py==4.0.0.dev0 openmpi\n",
    "\n",
    "\n",
    "* *Windows* <br>\n",
    "\n",
    "      pip install impi_rt\n",
    "      pip install -i https://pypi.anaconda.org/mpi4py/simple mpi4py==4.0.0.dev0\n",
    "      \n",
    "\n",
    "### Installing MPI and PETSc without conda\n",
    "\n",
    "* *Linux:* <br>\n",
    "  install either one with your package manager: openmpi, mpich, or IntelMPI <br>\n",
    "  pip install mpi4py\n",
    "  \n",
    "* *MacOS:*\n",
    "\n",
    "      download [openmpi4.1.6](https://www.open-mpi.org//software/ompi/v4.1/) <br>\n",
    "      ./configure <br>\n",
    "      make all  <br>\n",
    "      sudo make all install <br>\n",
    "      pip install mpi4py \n",
    "\n",
    "  \n",
    "* *Windows:* <br>\n",
    "  Install IntelMPI\n",
    "\n",
    "\n",
    "Install PETSc from a source-wheel:\n",
    "\n",
    "    export PETSC_CONFIGURE_OPTIONS=\"--with-fc=0 --with-debugging=0 --download-hypre COPTFLAGS=\\\"-O2\\\" CXXOPTFLAGS=\\\"-O2\\\" \"\n",
    "    pip cache remove petsc \n",
    "    pip install --upgrade --no-deps --force-reinstall mpi4py petsc petsc4py\n"
   ]
  },
  {
   "cell_type": "markdown",
   "id": "d26bff21",
   "metadata": {},
   "source": [
    "## Using ipyparallel\n",
    "\n",
    "The `ipyparallel` module let us communicate with the cluster. The `Cluster` class represents the cluster. Every processor starts its own Python instance."
   ]
  },
  {
   "cell_type": "code",
   "execution_count": null,
   "id": "383f8e06",
   "metadata": {},
   "outputs": [],
   "source": [
    "#!pip install ipyparallel"
   ]
  },
  {
   "cell_type": "code",
   "execution_count": null,
   "id": "80602cee",
   "metadata": {
    "scrolled": true
   },
   "outputs": [],
   "source": [
    "#from ipyparallel import Cluster\n",
    "#c = await Cluster(engines=\"mpi\").start_and_connect(n=4, activate=True)\n",
    "#c.ids"
   ]
  },
  {
   "cell_type": "markdown",
   "id": "f9572e0e",
   "metadata": {},
   "source": [
    "We can define variables on the i$^{th}$ process:"
   ]
  },
  {
   "cell_type": "code",
   "execution_count": null,
   "id": "23fe6731",
   "metadata": {},
   "outputs": [],
   "source": [
    "#for i in c.ids:\n",
    "#    c[i]['a'] = i"
   ]
  },
  {
   "cell_type": "markdown",
   "id": "143b5cd9",
   "metadata": {},
   "source": [
    "Cells tagged with the %%px - magic are executed by the cluster processes:"
   ]
  },
  {
   "cell_type": "code",
   "execution_count": null,
   "id": "989f9149",
   "metadata": {},
   "outputs": [],
   "source": [
    "%%px\n",
    "b = a*a"
   ]
  },
  {
   "cell_type": "markdown",
   "id": "69cd1a3c",
   "metadata": {},
   "source": [
    "query the results from the processes:"
   ]
  },
  {
   "cell_type": "code",
   "execution_count": null,
   "id": "f499c740",
   "metadata": {},
   "outputs": [],
   "source": [
    "c[:]['b']"
   ]
  }
 ],
 "metadata": {
  "kernelspec": {
   "display_name": "Python 3 (ipykernel)",
   "language": "python",
   "name": "python3"
  },
  "language_info": {
   "codemirror_mode": {
    "name": "ipython",
    "version": 3
   },
   "file_extension": ".py",
   "mimetype": "text/x-python",
   "name": "python",
   "nbconvert_exporter": "python",
   "pygments_lexer": "ipython3",
   "version": "3.12.2"
  }
 },
 "nbformat": 4,
 "nbformat_minor": 5
}
