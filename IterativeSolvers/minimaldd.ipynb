{
 "cells": [
  {
   "cell_type": "markdown",
   "id": "mobile-vinyl",
   "metadata": {},
   "source": [
    "# Domain Decomposition with minimal overlap\n",
    "\n",
    "With domain decomposition (DD) methods one splits a large problem on a big domain $\\Omega$ into smaller problems on sub-domains $\\Omega_i$.\n",
    "One advantage is that direct factorization on each sub-domain is cheaper than factorization of the global problem. Assume that the global problem is of size $N$, and we use $m$ sub-domains. Assume the  (sparse) factorization of a problem of size $n$ has costs $O(n^\\alpha)$. Then the advantage is\n",
    "\n",
    "$$\n",
    "m \\, \\big( \\tfrac{N}{m} \\big)^\\alpha = \\frac{1}{m^{\\alpha-1}} N^\\alpha \\leq N^\\alpha\n",
    "$$\n",
    "\n",
    "For sparse direct solvers based on nested dissection $\\alpha = 1.5$ for 2D problems, and $\\alpha = 2$ for 3D."
   ]
  },
  {
   "cell_type": "markdown",
   "id": "driven-arbitration",
   "metadata": {},
   "source": [
    "We sub-divide the unit-square into $m_x \\times m_y$ sub-domains. On the lower boundary we assign a boundary condition label:"
   ]
  },
  {
   "cell_type": "code",
   "execution_count": 1,
   "id": "709b8829-7b45-4bbd-a0de-132b108d47de",
   "metadata": {},
   "outputs": [
    {
     "data": {
      "application/vnd.jupyter.widget-view+json": {
       "model_id": "21adb07cae694dcc90e972620b156725",
       "version_major": 2,
       "version_minor": 0
      },
      "text/plain": [
       "WebGuiWidget(layout=Layout(height='50vh', width='100%'), value={'ngsolve_version': 'Netgen x.x', 'mesh_dim': 3…"
      ]
     },
     "metadata": {},
     "output_type": "display_data"
    }
   ],
   "source": [
    "from ngsolve import *\n",
    "from ngsolve.webgui import Draw\n",
    "from netgen.occ import *\n",
    "mx, my = 6,6\n",
    "rects = [MoveTo(i/mx,j/mx).Rectangle(1/mx,1/my).Face().bc(\"mat\"+str(i)+str(j)) for i in range(mx) for j in range(my)]\n",
    "shape = Glue(rects)\n",
    "shape.edges[Y<0.001].name = \"bottom\"\n",
    "Draw (shape);"
   ]
  },
  {
   "cell_type": "code",
   "execution_count": 2,
   "id": "71d5bf69-f75d-407e-8964-b51ccb523403",
   "metadata": {},
   "outputs": [
    {
     "name": "stdout",
     "output_type": "stream",
     "text": [
      "('mat00', 'mat01', 'mat02', 'mat03', 'mat04', 'mat05', 'mat10', 'mat11', 'mat12', 'mat13', 'mat14', 'mat15', 'mat20', 'mat21', 'mat22', 'mat23', 'mat24', 'mat25', 'mat30', 'mat31', 'mat32', 'mat33', 'mat34', 'mat35', 'mat40', 'mat41', 'mat42', 'mat43', 'mat44', 'mat45', 'mat50', 'mat51', 'mat52', 'mat53', 'mat54', 'mat55') ('bottom', 'default', 'default', 'default', 'default', 'default', 'default', 'default', 'default', 'default', 'default', 'default', 'default', 'default', 'default', 'default', 'default', 'default', 'default', 'bottom', 'default', 'default', 'default', 'default', 'default', 'default', 'default', 'default', 'default', 'default', 'default', 'default', 'bottom', 'default', 'default', 'default', 'default', 'default', 'default', 'default', 'default', 'default', 'default', 'default', 'default', 'bottom', 'default', 'default', 'default', 'default', 'default', 'default', 'default', 'default', 'default', 'default', 'default', 'default', 'bottom', 'default', 'default', 'default', 'default', 'default', 'default', 'default', 'default', 'default', 'default', 'default', 'default', 'bottom', 'default', 'default', 'default', 'default', 'default', 'default', 'default', 'default', 'default', 'default', 'default', 'default')\n"
     ]
    },
    {
     "data": {
      "application/vnd.jupyter.widget-view+json": {
       "model_id": "ab5f4b271581461e9257c5c5523fb9e3",
       "version_major": 2,
       "version_minor": 0
      },
      "text/plain": [
       "WebGuiWidget(layout=Layout(height='50vh', width='100%'), value={'gui_settings': {}, 'ngsolve_version': '6.2.24…"
      ]
     },
     "metadata": {},
     "output_type": "display_data"
    }
   ],
   "source": [
    "geo = OCCGeometry(shape,dim=2)\n",
    "mesh = Mesh(geo.GenerateMesh(maxh=0.025))\n",
    "print (mesh.GetMaterials(), mesh.GetBoundaries())\n",
    "Draw (mesh);"
   ]
  },
  {
   "cell_type": "markdown",
   "id": "opened-korea",
   "metadata": {},
   "source": [
    "setup a standard problem, Dirichlet b.c. on the bottom boundary:"
   ]
  },
  {
   "cell_type": "code",
   "execution_count": 3,
   "id": "parallel-zambia",
   "metadata": {},
   "outputs": [
    {
     "name": "stdout",
     "output_type": "stream",
     "text": [
      "ndof = 1873\n"
     ]
    }
   ],
   "source": [
    "fes = H1(mesh, order=1, dirichlet='bottom')\n",
    "print (\"ndof =\", fes.ndof)\n",
    "u,v = fes.TnT()\n",
    "a = BilinearForm(grad(u)*grad(v)*dx).Assemble()"
   ]
  },
  {
   "cell_type": "markdown",
   "id": "killing-lindsay",
   "metadata": {},
   "source": [
    "We build a precontioner as the sum of inverses on sub-domains:\n",
    "\n",
    "1. We iterate over the individual sub-domains. The function `mesh.Materials` returns one volume region, which can be split into a list of regions. \n",
    "99. A finite element space can provide a `BitArray` marking the dofs of a certain region. Then we perform the logical and operation `&` with the non-Dirichet dofs.\n",
    "99. The `Inverse(domaindofs)` takes the sub-matrix corresponding to the domain dofs, inverts it with a sparse direct solver, and inserts the small inverse into the large by padding with zeros. The costs are  $O(N + N_{\\text{used}}^\\alpha)$, where the constant for the $O(N)$ term is very small. \n",
    "99. The final preconditioner is the sum of sub-domain inverses."
   ]
  },
  {
   "cell_type": "code",
   "execution_count": 4,
   "id": "fourth-separate",
   "metadata": {},
   "outputs": [
    {
     "name": "stdout",
     "output_type": "stream",
     "text": [
      "num dofs: 55\n",
      "num dofs: 64\n",
      "num dofs: 64\n",
      "num dofs: 64\n",
      "num dofs: 64\n",
      "num dofs: 64\n",
      "num dofs: 56\n",
      "num dofs: 65\n",
      "num dofs: 65\n",
      "num dofs: 65\n",
      "num dofs: 65\n",
      "num dofs: 65\n",
      "num dofs: 56\n",
      "num dofs: 65\n",
      "num dofs: 65\n",
      "num dofs: 65\n",
      "num dofs: 65\n",
      "num dofs: 65\n",
      "num dofs: 56\n",
      "num dofs: 65\n",
      "num dofs: 65\n",
      "num dofs: 65\n",
      "num dofs: 65\n",
      "num dofs: 65\n",
      "num dofs: 56\n",
      "num dofs: 65\n",
      "num dofs: 65\n",
      "num dofs: 65\n",
      "num dofs: 65\n",
      "num dofs: 65\n",
      "num dofs: 56\n",
      "num dofs: 65\n",
      "num dofs: 65\n",
      "num dofs: 65\n",
      "num dofs: 65\n",
      "num dofs: 65\n",
      "condition number =  694.0914971275425\n"
     ]
    }
   ],
   "source": [
    "pre = None\n",
    "for dom in mesh.Materials(\".*\").Split():\n",
    "    domaindofs = fes.GetDofs(dom) & fes.FreeDofs()\n",
    "    # print (domaindofs)\n",
    "    print (\"num dofs:\", domaindofs.NumSet())\n",
    "    invi = a.mat.Inverse(domaindofs)\n",
    "    pre = invi if pre == None else pre + invi\n",
    "    \n",
    "from ngsolve.la import EigenValues_Preconditioner\n",
    "lami = list(EigenValues_Preconditioner(mat=a.mat, pre=pre))\n",
    "print (\"condition number = \", lami[-1]/lami[0])"
   ]
  },
  {
   "cell_type": "markdown",
   "id": "amber-processing",
   "metadata": {},
   "source": [
    "To check the solution:"
   ]
  },
  {
   "cell_type": "code",
   "execution_count": 5,
   "id": "acceptable-convertible",
   "metadata": {},
   "outputs": [
    {
     "name": "stdout",
     "output_type": "stream",
     "text": [
      "Iterations:  76\n"
     ]
    },
    {
     "data": {
      "application/vnd.jupyter.widget-view+json": {
       "model_id": "0332d1dba9054301849da519fc7eb272",
       "version_major": 2,
       "version_minor": 0
      },
      "text/plain": [
       "WebGuiWidget(layout=Layout(height='50vh', width='100%'), value={'gui_settings': {}, 'ngsolve_version': '6.2.24…"
      ]
     },
     "metadata": {},
     "output_type": "display_data"
    }
   ],
   "source": [
    "f = LinearForm(x*v*dx).Assemble()\n",
    "gfu = GridFunction(fes)\n",
    "from ngsolve.krylovspace import CGSolver\n",
    "inv = CGSolver(mat=a.mat, pre=pre)\n",
    "gfu.vec.data = inv * f.vec\n",
    "print (\"Iterations: \", len(inv.errors))\n",
    "Draw (gfu);"
   ]
  },
  {
   "cell_type": "markdown",
   "id": "inappropriate-vatican",
   "metadata": {},
   "source": [
    "Experiment with number of subdomains, and mesh-size. You should observe a condition number $O( h^{-1} H^{-1} )$, where $H$ is the sub-domain size, and $h$ is the element-size."
   ]
  },
  {
   "cell_type": "markdown",
   "id": "quiet-frontier",
   "metadata": {},
   "source": [
    "#Analysis of the method\n",
    "\n",
    "We apply the ASM theory, where sub-spaces are\n",
    "\n",
    "$$\n",
    "V_i = \\operatorname{span} \\{ \\varphi_i  : \\text{dof}_i \\text{ supported in } \\overline{\\Omega_i} \\}\n",
    "$$\n",
    "\n",
    "By the ASM Lemma, the preconditioner norm is\n",
    "\n",
    "$$\n",
    "\\| u \\|_{C_{ASM}}^2 = \\inf_{u = \\sum u_i \\atop u_i \\in V_i } \\sum \\| u_i \\|_A^2\n",
    "$$\n",
    "\n",
    "Since one sub-space $V_i$ has overlap with at most 9 spaces $V_j$, there immediately follows \n",
    "\n",
    "$$\n",
    "\\| u \\|_A^2 \\leq 9 \\, \\| u \\|_{C_{ASM}}^2\n",
    "$$\n",
    "\n",
    "and \n",
    "\n",
    "$$\n",
    "\\lambda_{max} (C_{ASM}^{-1} A) \\leq 9\n",
    "$$\n",
    "\n",
    "\n",
    "For the other bound we have to find a decomposition, and bound the norm:\n",
    "\n",
    "**Lemma** Let $u \\in H^1(\\Omega)$, and $u_i = u$ in $\\Omega_i$, and all other dofs set to zero. Then\n",
    "\n",
    "$$\n",
    "\\| u_i \\|_{H_1(\\Omega)}^2 \\preceq \\tfrac{1}{hH} \\| u \\|_{H^1(\\Omega_i)}^2\n",
    "$$\n",
    "\n",
    "*Proof:* Follows from the scaled trace theorem\n",
    "\n",
    "$$\n",
    "\\| u_i \\|_{L_2(\\partial \\Omega)}^2  \\preceq \\frac{1}{H} \\| u \\|_{H^1(\\Omega)}^2,\n",
    "$$\n",
    "\n",
    "and the decay of functions in the first layer of elements outside $\\Omega_i$:\n",
    "\n",
    "$$\n",
    "\\| u_i \\|_{H^1(\\Omega \\setminus \\Omega_i)}^2 \\preceq \\frac{1}{h} \\| u_i \\|_{L_2(\\partial \\Omega_i)}^2 \n",
    "$$\n",
    "\n",
    "<div style=\"text-align: right\">$\\Box$</div>\n",
    "\n",
    "\n",
    "\n",
    "Choosing these $u_i$ for every sub-domain does not lead to a decomposition $u = \\sum{u_i}$ since dofs at the interface contribute to several sub-space functions. \n",
    "So, we have to divide each coefficient by the number of sub-domains it belongs to, to obtain a decomposition $\\tilde u_i$. The estimate is very similar.\n"
   ]
  },
  {
   "cell_type": "code",
   "execution_count": 6,
   "id": "bridal-iceland",
   "metadata": {},
   "outputs": [
    {
     "data": {
      "application/vnd.jupyter.widget-view+json": {
       "model_id": "8211e01023e64783bc291a18a48def5f",
       "version_major": 2,
       "version_minor": 0
      },
      "text/plain": [
       "WebGuiWidget(layout=Layout(height='50vh', width='100%'), value={'gui_settings': {}, 'ngsolve_version': '6.2.24…"
      ]
     },
     "metadata": {},
     "output_type": "display_data"
    }
   ],
   "source": [
    "gfi = GridFunction(fes)\n",
    "domi = mesh.Materials(\".*\").Split()[4]\n",
    "proj = Projector(fes.GetDofs(domi), True)\n",
    "gfi.vec.data = proj * gfu.vec\n",
    "Draw (gfi);"
   ]
  },
  {
   "cell_type": "markdown",
   "id": "steady-accused",
   "metadata": {},
   "source": [
    "## Adding a coarse grid space\n",
    "\n",
    "We build a coarse space of functions being constant inside each sub-domain. Since the functions are continuous, they decay within one layer of elements:"
   ]
  },
  {
   "cell_type": "code",
   "execution_count": 7,
   "id": "streaming-toyota",
   "metadata": {},
   "outputs": [
    {
     "data": {
      "application/vnd.jupyter.widget-view+json": {
       "model_id": "cacfd0627c67410a9c6c0bde104203e9",
       "version_major": 2,
       "version_minor": 0
      },
      "text/plain": [
       "WebGuiWidget(layout=Layout(height='50vh', width='100%'), value={'gui_settings': {}, 'ngsolve_version': '6.2.24…"
      ]
     },
     "metadata": {},
     "output_type": "display_data"
    },
    {
     "name": "stdout",
     "output_type": "stream",
     "text": [
      "Multivector components: 36\n"
     ]
    }
   ],
   "source": [
    "gfcoarse = GridFunction(fes, multidim=len(mesh.Materials(\".*\").Split()))\n",
    "mv = gfcoarse.vecs    # a multi-vector\n",
    "proj = Projector(fes.FreeDofs(),True)\n",
    "for i,dom in enumerate (mesh.Materials(\".*\").Split()):\n",
    "    consti = GridFunction(fes)\n",
    "    consti.Set(1, definedon=dom)\n",
    "    proj.Project(consti.vec)\n",
    "    mv[i].data = consti.vec\n",
    "Draw (gfcoarse, mesh, animate=True)\n",
    "print (\"Multivector components:\",len(mv))"
   ]
  },
  {
   "cell_type": "markdown",
   "id": "mental-graduation",
   "metadata": {},
   "source": [
    "We add the space spanned by these (essentially) piecewise constant \n",
    "functions as additional sub-space, and define a coarse grid correction step:"
   ]
  },
  {
   "cell_type": "code",
   "execution_count": 8,
   "id": "handy-stupid",
   "metadata": {},
   "outputs": [
    {
     "name": "stdout",
     "output_type": "stream",
     "text": [
      " 23.7013       1       0       0       0       0 2.31415 -0.337032       0       0       0       0       0       0       0       0       0       0       0       0       0       0       0       0       0       0       0       0       0       0       0       0       0       0       0       0\n",
      "       1 25.1611       1       0       0       0 -0.318195       2 -0.333629       0       0       0       0       0       0       0       0       0       0       0       0       0       0       0       0       0       0       0       0       0       0       0       0       0       0       0\n",
      "       0       1 25.2699       1       0       0       0 -0.35572       2 -0.333629       0       0       0       0       0       0       0       0       0       0       0       0       0       0       0       0       0       0       0       0       0       0       0       0       0       0\n",
      "       0       0       1 25.2699       1       0       0       0 -0.35572       2 -0.333629       0       0       0       0       0       0       0       0       0       0       0       0       0       0       0       0       0       0       0       0       0       0       0       0       0\n",
      "       0       0       0       1 25.2699       1       0       0       0 -0.35572       2 -0.333629       0       0       0       0       0       0       0       0       0       0       0       0       0       0       0       0       0       0       0       0       0       0       0       0\n",
      "       0       0       0       0       1 16.6868       0       0       0       0 -0.35572       1       0       0       0       0       0       0       0       0       0       0       0       0       0       0       0       0       0       0       0       0       0       0       0       0\n",
      " 2.31415 -0.318195       0       0       0       0 32.1269       2       0       0       0       0 2.31221 -0.39022       0       0       0       0       0       0       0       0       0       0       0       0       0       0       0       0       0       0       0       0       0       0\n",
      " -0.337032       2 -0.35572       0       0       0       2  34.731       2       0       0       0 -0.365027       2 -0.386817       0       0       0       0       0       0       0       0       0       0       0       0       0       0       0       0       0       0       0       0       0\n",
      "       0 -0.333629       2 -0.35572       0       0       0       2 34.1144       2       0       0       0 -0.307914       2 -0.386817       0       0       0       0       0       0       0       0       0       0       0       0       0       0       0       0       0       0       0       0\n",
      "       0       0 -0.333629       2 -0.35572       0       0       0       2 34.1144       2       0       0       0 -0.307914       2 -0.386817       0       0       0       0       0       0       0       0       0       0       0       0       0       0       0       0       0       0       0\n",
      "       0       0       0 -0.333629       2 -0.35572       0       0       0       2 34.1144       2       0       0       0 -0.307914       2 -0.386817       0       0       0       0       0       0       0       0       0       0       0       0       0       0       0       0       0       0\n",
      "       0       0       0       0 -0.333629       1       0       0       0       0       2 24.7111       0       0       0       0 -0.307914       1       0       0       0       0       0       0       0       0       0       0       0       0       0       0       0       0       0       0\n",
      "       0       0       0       0       0       0 2.31221 -0.365027       0       0       0       0 32.1625       2       0       0       0       0 2.31221 -0.39022       0       0       0       0       0       0       0       0       0       0       0       0       0       0       0       0\n",
      "       0       0       0       0       0       0 -0.39022       2 -0.307914       0       0       0       2 35.1806       2       0       0       0 -0.365027       2 -0.386817       0       0       0       0       0       0       0       0       0       0       0       0       0       0       0\n",
      "       0       0       0       0       0       0       0 -0.386817       2 -0.307914       0       0       0       2  34.564       2       0       0       0 -0.307914       2 -0.386817       0       0       0       0       0       0       0       0       0       0       0       0       0       0\n",
      "       0       0       0       0       0       0       0       0 -0.386817       2 -0.307914       0       0       0       2  34.564       2       0       0       0 -0.307914       2 -0.386817       0       0       0       0       0       0       0       0       0       0       0       0       0\n",
      "       0       0       0       0       0       0       0       0       0 -0.386817       2 -0.307914       0       0       0       2  34.564       2       0       0       0 -0.307914       2 -0.386817       0       0       0       0       0       0       0       0       0       0       0       0\n",
      "       0       0       0       0       0       0       0       0       0       0 -0.386817       1       0       0       0       0       2 25.1607       0       0       0       0 -0.307914       1       0       0       0       0       0       0       0       0       0       0       0       0\n",
      "       0       0       0       0       0       0       0       0       0       0       0       0 2.31221 -0.365027       0       0       0       0 32.1625       2       0       0       0       0 2.31221 -0.39022       0       0       0       0       0       0       0       0       0       0\n",
      "       0       0       0       0       0       0       0       0       0       0       0       0 -0.39022       2 -0.307914       0       0       0       2 35.1806       2       0       0       0 -0.365027       2 -0.386817       0       0       0       0       0       0       0       0       0\n",
      "       0       0       0       0       0       0       0       0       0       0       0       0       0 -0.386817       2 -0.307914       0       0       0       2  34.564       2       0       0       0 -0.307914       2 -0.386817       0       0       0       0       0       0       0       0\n",
      "       0       0       0       0       0       0       0       0       0       0       0       0       0       0 -0.386817       2 -0.307914       0       0       0       2  34.564       2       0       0       0 -0.307914       2 -0.386817       0       0       0       0       0       0       0\n",
      "       0       0       0       0       0       0       0       0       0       0       0       0       0       0       0 -0.386817       2 -0.307914       0       0       0       2  34.564       2       0       0       0 -0.307914       2 -0.386817       0       0       0       0       0       0\n",
      "       0       0       0       0       0       0       0       0       0       0       0       0       0       0       0       0 -0.386817       1       0       0       0       0       2 25.1607       0       0       0       0 -0.307914       1       0       0       0       0       0       0\n",
      "       0       0       0       0       0       0       0       0       0       0       0       0       0       0       0       0       0       0 2.31221 -0.365027       0       0       0       0 32.1625       2       0       0       0       0 2.31221 -0.39022       0       0       0       0\n",
      "       0       0       0       0       0       0       0       0       0       0       0       0       0       0       0       0       0       0 -0.39022       2 -0.307914       0       0       0       2 35.1806       2       0       0       0 -0.365027       2 -0.386817       0       0       0\n",
      "       0       0       0       0       0       0       0       0       0       0       0       0       0       0       0       0       0       0       0 -0.386817       2 -0.307914       0       0       0       2  34.564       2       0       0       0 -0.307914       2 -0.386817       0       0\n",
      "       0       0       0       0       0       0       0       0       0       0       0       0       0       0       0       0       0       0       0       0 -0.386817       2 -0.307914       0       0       0       2  34.564       2       0       0       0 -0.307914       2 -0.386817       0\n",
      "       0       0       0       0       0       0       0       0       0       0       0       0       0       0       0       0       0       0       0       0       0 -0.386817       2 -0.307914       0       0       0       2  34.564       2       0       0       0 -0.307914       2 -0.386817\n",
      "       0       0       0       0       0       0       0       0       0       0       0       0       0       0       0       0       0       0       0       0       0       0 -0.386817       1       0       0       0       0       2 25.1607       0       0       0       0 -0.307914       1\n",
      "       0       0       0       0       0       0       0       0       0       0       0       0       0       0       0       0       0       0       0       0       0       0       0       0 2.31221 -0.365027       0       0       0       0 23.5794       1       0       0       0       0\n",
      "       0       0       0       0       0       0       0       0       0       0       0       0       0       0       0       0       0       0       0       0       0       0       0       0 -0.39022       2 -0.307914       0       0       0       1  25.233       1       0       0       0\n",
      "       0       0       0       0       0       0       0       0       0       0       0       0       0       0       0       0       0       0       0       0       0       0       0       0       0 -0.386817       2 -0.307914       0       0       0       1 24.6165       1       0       0\n",
      "       0       0       0       0       0       0       0       0       0       0       0       0       0       0       0       0       0       0       0       0       0       0       0       0       0       0 -0.386817       2 -0.307914       0       0       0       1 24.6165       1       0\n",
      "       0       0       0       0       0       0       0       0       0       0       0       0       0       0       0       0       0       0       0       0       0       0       0       0       0       0       0 -0.386817       2 -0.307914       0       0       0       1 24.6165       1\n",
      "       0       0       0       0       0       0       0       0       0       0       0       0       0       0       0       0       0       0       0       0       0       0       0       0       0       0       0       0 -0.386817       1       0       0       0       0       1 16.2131\n",
      "\n"
     ]
    }
   ],
   "source": [
    "a0 = InnerProduct(mv, a.mat * mv)\n",
    "print (a0)\n",
    "inva0 = BaseMatrix(a0.I)\n",
    "E0 = BaseMatrix(mv)\n",
    "coarsegrid = E0 @ inva0 @ E0.T"
   ]
  },
  {
   "cell_type": "code",
   "execution_count": 9,
   "id": "thick-stewart",
   "metadata": {},
   "outputs": [
    {
     "name": "stdout",
     "output_type": "stream",
     "text": [
      "condition number =  602.7054840929014\n"
     ]
    }
   ],
   "source": [
    "pre2 = pre + coarsegrid\n",
    "lami = list(EigenValues_Preconditioner(mat=a.mat, pre=pre2))\n",
    "print (\"condition number = \", lami[-1]/lami[0])"
   ]
  },
  {
   "cell_type": "markdown",
   "id": "further-breeding",
   "metadata": {},
   "source": [
    "... it does not work very well"
   ]
  },
  {
   "cell_type": "markdown",
   "id": "private-terry",
   "metadata": {},
   "source": [
    "We can improve it by scaling the coarse grid functions by the \n",
    "number of domains it belongs to. Thanks to this scaling a globally \n",
    "constant function can be represented within the coarse space."
   ]
  },
  {
   "cell_type": "code",
   "execution_count": 10,
   "id": "white-separate",
   "metadata": {},
   "outputs": [],
   "source": [
    "ones = mv[0].CreateVector()\n",
    "cnt = mv[0].CreateVector()\n",
    "cnt[:] = 0\n",
    "ones[:] = 1\n",
    "for dom in mesh.Materials(\".*\").Split():\n",
    "    cnt += Projector(fes.GetDofs(dom),True)*ones\n",
    "\n",
    "idiag = DiagonalMatrix(cnt).Inverse(fes.FreeDofs())\n",
    "for v in mv:\n",
    "    v.data = (idiag*v).Evaluate()"
   ]
  },
  {
   "cell_type": "code",
   "execution_count": 11,
   "id": "regional-responsibility",
   "metadata": {},
   "outputs": [
    {
     "name": "stdout",
     "output_type": "stream",
     "text": [
      "condition number =  24.112661190266714\n"
     ]
    }
   ],
   "source": [
    "a0 = InnerProduct(mv, a.mat * mv)\n",
    "# print (a0)\n",
    "# print (a0 * Vector( (1,)*len(mv)))\n",
    "inva0 = BaseMatrix(a0.I)\n",
    "E0 = BaseMatrix(mv)\n",
    "coarsegrid = E0 @ inva0 @ E0.T\n",
    "pre3 = pre + coarsegrid\n",
    "lami = list(EigenValues_Preconditioner(mat=a.mat, pre=pre3))\n",
    "print (\"condition number = \", lami[-1]/lami[0])"
   ]
  },
  {
   "cell_type": "code",
   "execution_count": 12,
   "id": "quality-quantum",
   "metadata": {},
   "outputs": [
    {
     "data": {
      "application/vnd.jupyter.widget-view+json": {
       "model_id": "498e8f6f173c4049bc471414ebc768f0",
       "version_major": 2,
       "version_minor": 0
      },
      "text/plain": [
       "WebGuiWidget(layout=Layout(height='50vh', width='100%'), value={'gui_settings': {}, 'ngsolve_version': '6.2.24…"
      ]
     },
     "metadata": {},
     "output_type": "display_data"
    }
   ],
   "source": [
    "gfu0 = GridFunction(fes)\n",
    "gfu0.vec.data = coarsegrid * (a.mat * gfu.vec)\n",
    "Draw (gfu0);"
   ]
  },
  {
   "cell_type": "markdown",
   "id": "southwest-prayer",
   "metadata": {},
   "source": [
    "*Exercise*:\n",
    "The condition number can be estimated by:\n",
    "\n",
    "$$\n",
    "\\kappa \\{C^{-1} A \\} \\prec \\frac{H}{h}\n",
    "$$\n",
    "\n",
    "Hint: First, split the global function as $u = u_H + u_f$, where $u_H$ is in domain-wise constant space such that the constant is the mean-value of $u$. Show that\n",
    "\n",
    "$$\n",
    "\\frac{h}{H} \\| \\nabla u_f \\|_{L_2}^2 + \\frac{1}{H^2} \\| u_f \\|_{L_2}^2 \\preceq \\| u \\|_{H^1}^2\n",
    "$$\n",
    "\n",
    "Then, decompose $u_f = \\sum u_i$ following the path from above, but using  a refined estimates for the trace:\n",
    "\n",
    "$$\n",
    "\\| u_i \\| _{L_2(\\partial \\Omega)}^2 \\preceq \\frac{1}{H} \\| u_f  \\|_{L_2(\\Omega_i)}^2 + H  \\| \\nabla u_f \\|_{L_2(\\Omega)}^2\n",
    "$$\n",
    "\n"
   ]
  },
  {
   "cell_type": "markdown",
   "id": "biological-process",
   "metadata": {},
   "source": [
    "## Graph-based mesh partitioning\n",
    "\n",
    "The geometric decomposition of a domain into *nice* sub-domains as we have done above is usually not feasible. In practice, one often uses graph-based mesh partitioning tools. The mesh connectivity is represented as a graph, where the "
   ]
  },
  {
   "cell_type": "code",
   "execution_count": 13,
   "id": "precious-friday",
   "metadata": {},
   "outputs": [],
   "source": [
    "mesh = Mesh(unit_square.GenerateMesh(maxh=0.1))"
   ]
  },
  {
   "cell_type": "code",
   "execution_count": 14,
   "id": "automated-superintendent",
   "metadata": {},
   "outputs": [
    {
     "data": {
      "application/vnd.jupyter.widget-view+json": {
       "model_id": "678b32cfd3fb4b23b5494c986c3f58cc",
       "version_major": 2,
       "version_minor": 0
      },
      "text/plain": [
       "WebGuiWidget(layout=Layout(height='50vh', width='100%'), value={'gui_settings': {}, 'ngsolve_version': '6.2.24…"
      ]
     },
     "metadata": {},
     "output_type": "display_data"
    }
   ],
   "source": [
    "Draw (mesh);"
   ]
  },
  {
   "cell_type": "markdown",
   "id": "e1d2faa8-9a69-4b13-9863-7b3471b6979f",
   "metadata": {},
   "source": [
    "We build a graph (stored as a list of lists) for the neighbor elements:"
   ]
  },
  {
   "cell_type": "code",
   "execution_count": 15,
   "id": "known-relevance",
   "metadata": {},
   "outputs": [],
   "source": [
    "nbels = []\n",
    "for el in mesh.Elements(VOL):\n",
    "    nbs = []\n",
    "    for f in el.facets:\n",
    "        for nb in mesh[f].elements:\n",
    "            if nb != el:\n",
    "                nbs.append(nb.nr)\n",
    "    nbels.append(nbs)\n",
    "# print (nbels)"
   ]
  },
  {
   "cell_type": "markdown",
   "id": "heard-composite",
   "metadata": {},
   "source": [
    "Metis is such a graph partitioning tool. Python bindings are provided via the package pymetis. \n",
    "We provide the element neighbor graph as adjacency relation:"
   ]
  },
  {
   "cell_type": "code",
   "execution_count": 16,
   "id": "reduced-guest",
   "metadata": {},
   "outputs": [
    {
     "ename": "ModuleNotFoundError",
     "evalue": "No module named 'pymetis'",
     "output_type": "error",
     "traceback": [
      "\u001b[1;31m---------------------------------------------------------------------------\u001b[0m",
      "\u001b[1;31mModuleNotFoundError\u001b[0m                       Traceback (most recent call last)",
      "Cell \u001b[1;32mIn[16], line 1\u001b[0m\n\u001b[1;32m----> 1\u001b[0m \u001b[38;5;28;01mimport\u001b[39;00m \u001b[38;5;21;01mpymetis\u001b[39;00m\n\u001b[0;32m      2\u001b[0m ndom \u001b[38;5;241m=\u001b[39m \u001b[38;5;241m6\u001b[39m\n\u001b[0;32m      3\u001b[0m n_cuts, membership \u001b[38;5;241m=\u001b[39m pymetis\u001b[38;5;241m.\u001b[39mpart_graph(ndom, adjacency\u001b[38;5;241m=\u001b[39mnbels)\n",
      "\u001b[1;31mModuleNotFoundError\u001b[0m: No module named 'pymetis'"
     ]
    }
   ],
   "source": [
    "import pymetis\n",
    "ndom = 6\n",
    "n_cuts, membership = pymetis.part_graph(ndom, adjacency=nbels)"
   ]
  },
  {
   "cell_type": "code",
   "execution_count": null,
   "id": "municipal-anthropology",
   "metadata": {},
   "outputs": [],
   "source": [
    "gfdom = GridFunction(L2(mesh,order=0))\n",
    "gfdom.vec.data = BaseVector(membership)\n",
    "Draw (gfdom);"
   ]
  },
  {
   "cell_type": "markdown",
   "id": "located-cincinnati",
   "metadata": {},
   "source": [
    "A basic method for graph partitioning is spectral bisection: One computes the eigenfunction to the smallest non-zero eigenvalue of the  Laplace-operator with Neumann boundary conditions. Two sub-domains are defined for the points where the eigenfunction is positive, or negative. Consider as an example a long rectangle: The eigenfunction is a sine-function in the long direction, and the interface between the sub-domains is as short as possible. "
   ]
  },
  {
   "cell_type": "code",
   "execution_count": null,
   "id": "documentary-solid",
   "metadata": {},
   "outputs": [],
   "source": [
    "fes = H1(mesh, order=1, dirichlet='bottom')\n",
    "print (\"ndof =\", fes.ndof)\n",
    "print (fes.FreeDofs())\n",
    "u,v = fes.TnT()\n",
    "a = BilinearForm(grad(u)*grad(v)*dx).Assemble()\n",
    "gfu = GridFunction(fes)\n",
    "\n",
    "domdofs = [BitArray(fes.ndof) for i in range(ndom)]\n",
    "for d in domdofs: d.Clear()\n",
    "for el in fes.Elements(VOL):\n",
    "    for d in el.dofs:\n",
    "        domdofs[membership[el.nr]].Set(d)"
   ]
  },
  {
   "cell_type": "code",
   "execution_count": null,
   "id": "virgin-bible",
   "metadata": {},
   "outputs": [],
   "source": [
    "pre = None\n",
    "for dd in domdofs:\n",
    "    invi = a.mat.Inverse(dd & fes.FreeDofs())\n",
    "    pre = invi if pre == None else pre + invi\n",
    "    \n",
    "from ngsolve.la import EigenValues_Preconditioner\n",
    "lami = list(EigenValues_Preconditioner(mat=a.mat, pre=pre))\n",
    "print (\"condition number = \", lami[-1]/lami[0])"
   ]
  },
  {
   "cell_type": "markdown",
   "id": "764ca02f-e186-4810-95cf-7bbff4739715",
   "metadata": {},
   "source": [
    "## With the coarse space "
   ]
  },
  {
   "cell_type": "code",
   "execution_count": null,
   "id": "israeli-buying",
   "metadata": {},
   "outputs": [],
   "source": [
    "gfcoarse = GridFunction(fes, multidim=ndom)\n",
    "mv = gfcoarse.vecs\n",
    "proj = Projector(fes.FreeDofs(),True)\n",
    "for i in range(ndom):\n",
    "    gfcoarse.Set(IfPos( Norm(gfdom-i)-0.5, 0, 1), mdcomp=i)\n",
    "    proj.Project(mv[i])\n",
    "\n",
    "Draw (gfcoarse, animate=True);"
   ]
  },
  {
   "cell_type": "code",
   "execution_count": null,
   "id": "latest-trademark",
   "metadata": {},
   "outputs": [],
   "source": [
    "a0 = InnerProduct(mv, a.mat * mv)\n",
    "print (a0)\n",
    "# print (a0 * Vector( (1,)*len(mv)))\n",
    "inva0 = BaseMatrix(a0.I)\n",
    "E0 = BaseMatrix(mv)\n",
    "coarsegrid = E0 @ inva0 @ E0.T\n",
    "pre3 = pre + coarsegrid\n",
    "lami = list(EigenValues_Preconditioner(mat=a.mat, pre=pre3))\n",
    "print (\"condition number =\", lami[-1]/lami[0])"
   ]
  },
  {
   "cell_type": "code",
   "execution_count": null,
   "id": "cb1fb41d-48ad-407a-97bf-4cc111f43984",
   "metadata": {},
   "outputs": [],
   "source": []
  }
 ],
 "metadata": {
  "kernelspec": {
   "display_name": "Python 3 (ipykernel)",
   "language": "python",
   "name": "python3"
  },
  "language_info": {
   "codemirror_mode": {
    "name": "ipython",
    "version": 3
   },
   "file_extension": ".py",
   "mimetype": "text/x-python",
   "name": "python",
   "nbconvert_exporter": "python",
   "pygments_lexer": "ipython3",
   "version": "3.12.2"
  }
 },
 "nbformat": 4,
 "nbformat_minor": 5
}
